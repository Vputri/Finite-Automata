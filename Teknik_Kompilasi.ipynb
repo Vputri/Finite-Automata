{
  "nbformat": 4,
  "nbformat_minor": 0,
  "metadata": {
    "kernelspec": {
      "display_name": "Python 3",
      "language": "python",
      "name": "python3"
    },
    "language_info": {
      "codemirror_mode": {
        "name": "ipython",
        "version": 3
      },
      "file_extension": ".py",
      "mimetype": "text/x-python",
      "name": "python",
      "nbconvert_exporter": "python",
      "pygments_lexer": "ipython3",
      "version": "3.7.6"
    },
    "colab": {
      "name": "Teknik Kompilasi.ipynb",
      "provenance": [],
      "collapsed_sections": [],
      "include_colab_link": true
    }
  },
  "cells": [
    {
      "cell_type": "markdown",
      "metadata": {
        "id": "view-in-github",
        "colab_type": "text"
      },
      "source": [
        "<a href=\"https://colab.research.google.com/github/Vputri/Teknik-Kompilasi/blob/main/Teknik_Kompilasi.ipynb\" target=\"_parent\"><img src=\"https://colab.research.google.com/assets/colab-badge.svg\" alt=\"Open In Colab\"/></a>"
      ]
    },
    {
      "cell_type": "markdown",
      "metadata": {
        "id": "0ygpo2X3Y0ld"
      },
      "source": [
        "# **Program Finite Automata**"
      ]
    },
    {
      "cell_type": "markdown",
      "metadata": {
        "id": "axfpds1EdqHT"
      },
      "source": [
        "# **1. String Bilangan Genap**\n",
        "L(G1) = { 2, 4, 6, 8, 10, 12,..,18, 20, ..., 98, 100, 102,....., 998, 1000, 1002,...}"
      ]
    },
    {
      "cell_type": "code",
      "metadata": {
        "id": "RaEZ838mgciT",
        "outputId": "0937ee5e-b430-4408-c6d1-b3d6f2ce304a",
        "colab": {
          "base_uri": "https://localhost:8080/"
        }
      },
      "source": [
        "inputan = input(\"Masukkan inputan : \")#pisahkan dengan spasi misal 1002 20\n",
        "inputan = list(inputan.split(' '))\n",
        "hasil = []\n",
        "\n",
        "for i in inputan:\n",
        "  if int(i)%2 == 0:\n",
        "    hasil.append(i)\n",
        "\n",
        "if (len(hasil) == len(inputan)):\n",
        "  print(\"ACCEPTED\")\n",
        "else:\n",
        "  print(\"NOT ACCEPTED\")"
      ],
      "execution_count": null,
      "outputs": [
        {
          "output_type": "stream",
          "text": [
            "Masukkan inputan : 1002 102 2\n",
            "ACCEPTED\n"
          ],
          "name": "stdout"
        }
      ]
    },
    {
      "cell_type": "markdown",
      "metadata": {
        "id": "8W2bXLmod4VJ"
      },
      "source": [
        "# **2. String Bilangan String Ganjil**\n",
        "L(G2) = { 1, 3, 5, 7, 9, 111,..,17, 19, ..., 97, 99, 101,....., 997, 999, 1001,... }"
      ]
    },
    {
      "cell_type": "code",
      "metadata": {
        "id": "EbWa0CIqeyDY",
        "outputId": "b1ade8c4-4858-486a-975b-935ed91541d7",
        "colab": {
          "base_uri": "https://localhost:8080/"
        }
      },
      "source": [
        "inputan = input(\"Masukkan inputan : \")#pisahkan dengan spasi misal 99 101\n",
        "inputan = list(inputan.split(' '))\n",
        "hasil = []\n",
        "\n",
        "for i in inputan:\n",
        "  if int(i)%2 == 1:\n",
        "    hasil.append(i)\n",
        "\n",
        "if (len(hasil) == len(inputan)):\n",
        "  print(\"ACCEPTED\")\n",
        "else:\n",
        "  print(\"NOT ACCEPTED\")"
      ],
      "execution_count": null,
      "outputs": [
        {
          "output_type": "stream",
          "text": [
            "Masukkan inputan : 1001 101 11 1\n",
            "ACCEPTED\n"
          ],
          "name": "stdout"
        }
      ]
    },
    {
      "cell_type": "markdown",
      "metadata": {
        "id": "laEtRusUeByl"
      },
      "source": [
        "# **3. String Nama-Nama Mahasiswa Kelas 3IA88**\n",
        "L(G3) = {ARDI, BILI, BILAL, CICI, DATUL, DIYANK, FARELL, FATONI, FATTAH, GIO, KHALIF, LUTHFI, MAUL, NARIS, RIFQY, REKSA, RAY, SISY, VIKA, YAZID,\n",
        "ZIDAN }"
      ]
    },
    {
      "cell_type": "code",
      "metadata": {
        "id": "X2ld7U6cgbZl",
        "outputId": "2f9748bb-3654-4289-a85d-3dcfa8654123",
        "colab": {
          "base_uri": "https://localhost:8080/"
        }
      },
      "source": [
        "inputan = input(\"Masukkan inputan : \")#pisahkan dengan spasi misal cici sisy\n",
        "inputan = list(inputan.split(' '))\n",
        "kamus = ['ARDI', 'BILI', 'BILAL', 'CICI', 'DATUL', 'DIYANK', 'FARELL', 'FATONI', 'FATTAH', 'GIO', \n",
        "         'KHALIF', 'LUTHFI', 'MAUL', 'NARIS', 'RIFQY', 'REKSA', 'RAY', 'SISY', 'VIKA', 'YAZID', 'ZIDAN']\n",
        "hasil = []\n",
        "\n",
        "for i in inputan:\n",
        "  if i.upper() in kamus:\n",
        "    hasil.append(i)\n",
        "\n",
        "if (len(hasil) == len(inputan)):\n",
        "  print(\"ACCEPTED\")\n",
        "else:\n",
        "  print(\"NOT ACCEPTED\")"
      ],
      "execution_count": null,
      "outputs": [
        {
          "output_type": "stream",
          "text": [
            "Masukkan inputan : sisy cici naris\n",
            "ACCEPTED\n"
          ],
          "name": "stdout"
        }
      ]
    },
    {
      "cell_type": "markdown",
      "metadata": {
        "id": "U-hE6mOcehAm"
      },
      "source": [
        "# **4. String Kalimat**\n",
        "L(G4) = { (ab;) n ⎹ n > 0 } = { ab, abab, ababab, ......}"
      ]
    },
    {
      "cell_type": "markdown",
      "metadata": {
        "id": "ybf6PxpIxgqi"
      },
      "source": [
        "![image.png](data:image/png;base64,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)"
      ]
    },
    {
      "cell_type": "code",
      "metadata": {
        "id": "vJ_CktL2gfEu"
      },
      "source": [
        "def prime(fn):\n",
        "    def wrapper(*args, **kwargs):\n",
        "        v = fn(*args, **kwargs)\n",
        "        v.send(None)\n",
        "        return v\n",
        "    return wrapper"
      ],
      "execution_count": null,
      "outputs": []
    },
    {
      "cell_type": "code",
      "metadata": {
        "id": "0uo_Vcz9sZAa"
      },
      "source": [
        "class RegexFSM:\n",
        "    def __init__(self):\n",
        "        self.start = self._create_start()\n",
        "        self.q0 = self._create_q0()\n",
        "        self.q1 = self._create_q1()\n",
        "        \n",
        "        self.current_state = self.start\n",
        "        self.stopped = False\n",
        "        \n",
        "    def send(self, char):\n",
        "        try:\n",
        "            self.current_state.send(char)\n",
        "        except StopIteration:\n",
        "            self.stopped = True\n",
        "        \n",
        "    def does_match(self):\n",
        "        if self.stopped:\n",
        "            return False\n",
        "        return self.current_state == self.q0\n",
        "\n",
        "    @prime\n",
        "    def _create_start(self):\n",
        "        while True:\n",
        "            char = yield\n",
        "            if char == 'a':\n",
        "                self.current_state = self.q1\n",
        "            else:\n",
        "                break\n",
        "    \n",
        "    @prime\n",
        "    def _create_q1(self):\n",
        "        while True:\n",
        "            char = yield\n",
        "            if char == 'b':\n",
        "                self.current_state = self.q0\n",
        "            else:\n",
        "                break\n",
        "\n",
        "    @prime\n",
        "    def _create_q0(self):\n",
        "        while True:\n",
        "            char = yield\n",
        "            if char == 'a':\n",
        "                self.current_state = self.q1\n",
        "            else:\n",
        "                break"
      ],
      "execution_count": null,
      "outputs": []
    },
    {
      "cell_type": "code",
      "metadata": {
        "id": "wixOc6x-tANj"
      },
      "source": [
        "def grep_regex(text):\n",
        "    evaluator = RegexFSM()\n",
        "    for ch in text:\n",
        "        evaluator.send(ch)\n",
        "    if evaluator.does_match() == True:\n",
        "      print(\"ACCEPTED\")\n",
        "    else:\n",
        "      print(\"NOT ACCEPTED\")"
      ],
      "execution_count": null,
      "outputs": []
    },
    {
      "cell_type": "code",
      "metadata": {
        "id": "UfcN1YxjtD4-",
        "outputId": "b3356dbe-8250-422f-aefb-5beb7edeb5f8",
        "colab": {
          "base_uri": "https://localhost:8080/"
        }
      },
      "source": [
        "grep_regex(\"ab\")"
      ],
      "execution_count": null,
      "outputs": [
        {
          "output_type": "stream",
          "text": [
            "ACCEPTED\n"
          ],
          "name": "stdout"
        }
      ]
    },
    {
      "cell_type": "code",
      "metadata": {
        "id": "gM6vi2EdtIvZ",
        "outputId": "af2089e1-cb49-4f11-f68a-3597be4d47fa",
        "colab": {
          "base_uri": "https://localhost:8080/"
        }
      },
      "source": [
        "grep_regex(\"abab\")"
      ],
      "execution_count": null,
      "outputs": [
        {
          "output_type": "stream",
          "text": [
            "ACCEPTED\n"
          ],
          "name": "stdout"
        }
      ]
    },
    {
      "cell_type": "markdown",
      "metadata": {
        "id": "3jnceNjEemWL"
      },
      "source": [
        "# **5. String Kalimat**\n",
        "L(G5) = { 01(ab)*10 ⎹ n > 0 } = { 01ab10, 01abab10, 01ababab10,...\n",
        "}"
      ]
    },
    {
      "cell_type": "markdown",
      "metadata": {
        "id": "aTsLneMjxkZU"
      },
      "source": [
        "![image.png](data:image/png;base64,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)"
      ]
    },
    {
      "cell_type": "code",
      "metadata": {
        "id": "y-ec36lIY0ly"
      },
      "source": [
        "def prime(fn):\n",
        "    def wrapper(*args, **kwargs):\n",
        "        v = fn(*args, **kwargs)\n",
        "        v.send(None)\n",
        "        return v\n",
        "    return wrapper"
      ],
      "execution_count": null,
      "outputs": []
    },
    {
      "cell_type": "code",
      "metadata": {
        "id": "0QyOMIhCY0mC"
      },
      "source": [
        "class RegexFSM:\n",
        "    def __init__(self):\n",
        "        self.start = self._create_start()\n",
        "        self.q1 = self._create_q1()\n",
        "        self.q2 = self._create_q2()\n",
        "        self.q3 = self._create_q3()\n",
        "        self.q4 = self._create_q4()\n",
        "        self.q5 = self._create_q5()\n",
        "        \n",
        "        self.current_state = self.start\n",
        "        self.stopped = False\n",
        "        \n",
        "    def send(self, char):\n",
        "        try:\n",
        "            self.current_state.send(char)\n",
        "        except StopIteration:\n",
        "            self.stopped = True\n",
        "        \n",
        "    def does_match(self):\n",
        "        if self.stopped:\n",
        "            return False\n",
        "        return self.current_state == self.q5\n",
        "\n",
        "    @prime\n",
        "    def _create_start(self):\n",
        "        while True:\n",
        "            char = yield\n",
        "            if char == '0':\n",
        "                self.current_state = self.q1\n",
        "            else:\n",
        "                break\n",
        "    \n",
        "    @prime\n",
        "    def _create_q1(self):\n",
        "        while True:\n",
        "            char = yield\n",
        "            if char == '1':\n",
        "                self.current_state = self.q2\n",
        "            else:\n",
        "                break\n",
        "\n",
        "    @prime\n",
        "    def _create_q2(self):\n",
        "        while True:\n",
        "            char = yield\n",
        "            if char == 'a':\n",
        "                self.current_state = self.q3\n",
        "            elif char == '1':\n",
        "                self.current_state = self.q4\n",
        "            else:\n",
        "                break\n",
        "\n",
        "    @prime\n",
        "    def _create_q3(self):\n",
        "        while True:\n",
        "            char = yield\n",
        "            if char == 'b':\n",
        "                self.current_state = self.q2\n",
        "            else:\n",
        "                break\n",
        "\n",
        "    @prime\n",
        "    def _create_q4(self):\n",
        "        while True:\n",
        "            char = yield\n",
        "            if char == '0':\n",
        "                self.current_state = self.q5\n",
        "            else:\n",
        "                break\n",
        "\n",
        "    @prime\n",
        "    def _create_q5(self):\n",
        "        while True:\n",
        "            char = yield\n",
        "            break"
      ],
      "execution_count": null,
      "outputs": []
    },
    {
      "cell_type": "code",
      "metadata": {
        "id": "QsuvlUo_Y0mO"
      },
      "source": [
        "def grep_regex(text):\n",
        "    evaluator = RegexFSM()\n",
        "    for ch in text:\n",
        "        evaluator.send(ch)\n",
        "    if evaluator.does_match() == True:\n",
        "      print(\"ACCEPTED\")\n",
        "    else:\n",
        "      print(\"NOT ACCEPTED\")"
      ],
      "execution_count": null,
      "outputs": []
    },
    {
      "cell_type": "code",
      "metadata": {
        "id": "94EV_W-MnQCK",
        "outputId": "3019daaf-a3ab-44d6-e071-86521bc8925d",
        "colab": {
          "base_uri": "https://localhost:8080/"
        }
      },
      "source": [
        "grep_regex(\"01\")"
      ],
      "execution_count": null,
      "outputs": [
        {
          "output_type": "stream",
          "text": [
            "NOT ACCEPTED\n"
          ],
          "name": "stdout"
        }
      ]
    },
    {
      "cell_type": "code",
      "metadata": {
        "id": "g1HDaJJaY0mt",
        "outputId": "9b933208-bba6-45b3-94f6-dff4b6e50a0f",
        "colab": {
          "base_uri": "https://localhost:8080/"
        }
      },
      "source": [
        "grep_regex(\"01ab10\")"
      ],
      "execution_count": null,
      "outputs": [
        {
          "output_type": "stream",
          "text": [
            "ACCEPTED\n"
          ],
          "name": "stdout"
        }
      ]
    },
    {
      "cell_type": "code",
      "metadata": {
        "id": "Z91O-9vfY0m9",
        "outputId": "6105c4e0-b5ae-4707-dfb6-75970144f441",
        "colab": {
          "base_uri": "https://localhost:8080/"
        }
      },
      "source": [
        "grep_regex(\"01ababab10\")"
      ],
      "execution_count": null,
      "outputs": [
        {
          "output_type": "stream",
          "text": [
            "ACCEPTED\n"
          ],
          "name": "stdout"
        }
      ]
    },
    {
      "cell_type": "markdown",
      "metadata": {
        "id": "YOppc-G9r2og"
      },
      "source": [
        "Sumber : [codementor](https://www.codementor.io/@arpitbhayani/building-finite-state-machines-with-python-coroutines-15nk03eh9l)"
      ]
    }
  ]
}