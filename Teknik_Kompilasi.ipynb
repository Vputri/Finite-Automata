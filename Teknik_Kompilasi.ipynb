{
  "nbformat": 4,
  "nbformat_minor": 0,
  "metadata": {
    "colab": {
      "name": "Teknik Kompilasi.ipynb",
      "provenance": [],
      "collapsed_sections": [],
      "authorship_tag": "ABX9TyMroha/7JSrUJ8rVRegDsZQ",
      "include_colab_link": true
    },
    "kernelspec": {
      "name": "python3",
      "display_name": "Python 3"
    }
  },
  "cells": [
    {
      "cell_type": "markdown",
      "metadata": {
        "id": "view-in-github",
        "colab_type": "text"
      },
      "source": [
        "<a href=\"https://colab.research.google.com/github/Vputri/Teknik-Kompilasi/blob/main/Teknik_Kompilasi.ipynb\" target=\"_parent\"><img src=\"https://colab.research.google.com/assets/colab-badge.svg\" alt=\"Open In Colab\"/></a>"
      ]
    },
    {
      "cell_type": "markdown",
      "metadata": {
        "id": "DY2tQGxSWclI"
      },
      "source": [
        "# **Program Finite Automata**"
      ]
    },
    {
      "cell_type": "markdown",
      "metadata": {
        "id": "2-v-EgBTWgSG"
      },
      "source": [
        "# **1. String Bilangan Genap**\n",
        "L(G1) = { 2, 4, 6, 8, 10, 12,..,18, 20, ..., 98, 100, 102,....., 998, 1000, 1002,...}"
      ]
    },
    {
      "cell_type": "code",
      "metadata": {
        "id": "Ghh3yA7PWbdz",
        "outputId": "f67794f0-b278-4ffb-dcc3-094b69359c03",
        "colab": {
          "base_uri": "https://localhost:8080/"
        }
      },
      "source": [
        "inputan = input(\"Masukkan inputan : \")#pisahkan dengan spasi misal 1002 20\n",
        "inputan = list(inputan.split(' '))\n",
        "hasil = []\n",
        "\n",
        "for i in inputan:\n",
        "  if int(i)%2 == 0:\n",
        "    hasil.append(i)\n",
        "\n",
        "if (len(hasil) == len(inputan)):\n",
        "  print(\"ACCEPTED\")\n",
        "else:\n",
        "  print(\"NOT ACCEPTED\")"
      ],
      "execution_count": 1,
      "outputs": [
        {
          "output_type": "stream",
          "text": [
            "Masukkan inputan : 10 100 100\n",
            "ACCEPTED\n"
          ],
          "name": "stdout"
        }
      ]
    },
    {
      "cell_type": "markdown",
      "metadata": {
        "id": "PIl5aS3lWp9c"
      },
      "source": [
        "# **2. String Bilangan String Ganjil**\n",
        "L(G2) = { 1, 3, 5, 7, 9, 111,..,17, 19, ..., 97, 99, 101,....., 997, 999, 1001,... }"
      ]
    },
    {
      "cell_type": "code",
      "metadata": {
        "id": "SUWgWvLwWw5M",
        "outputId": "73be2be4-bf42-41ce-df1b-21141f71d4ca",
        "colab": {
          "base_uri": "https://localhost:8080/"
        }
      },
      "source": [
        "inputan = input(\"Masukkan inputan : \")#pisahkan dengan spasi misal 99 101\n",
        "inputan = list(inputan.split(' '))\n",
        "hasil = []\n",
        "\n",
        "for i in inputan:\n",
        "  if int(i)%2 == 1:\n",
        "    hasil.append(i)\n",
        "\n",
        "if (len(hasil) == len(inputan)):\n",
        "  print(\"ACCEPTED\")\n",
        "else:\n",
        "  print(\"NOT ACCEPTED\")"
      ],
      "execution_count": 2,
      "outputs": [
        {
          "output_type": "stream",
          "text": [
            "Masukkan inputan : 11 101 1001\n",
            "ACCEPTED\n"
          ],
          "name": "stdout"
        }
      ]
    },
    {
      "cell_type": "markdown",
      "metadata": {
        "id": "GpfOlK6WW0Ca"
      },
      "source": [
        "# **3. String Nama-Nama Mahasiswa Kelas 3IA88**\n",
        "L(G3) = {ARDI, BILI, BILAL, CICI, DATUL, DIYANK, FARELL, FATONI, FATTAH, GIO, KHALIF, LUTHFI, MAUL, NARIS, RIFQY, REKSA, RAY, SISY, VIKA, YAZID,\n",
        "ZIDAN }"
      ]
    },
    {
      "cell_type": "code",
      "metadata": {
        "id": "D_iFOV_LW2nZ",
        "outputId": "4c3411cc-b9e7-4e58-ecbd-839c3ef354ad",
        "colab": {
          "base_uri": "https://localhost:8080/"
        }
      },
      "source": [
        "inputan = input(\"Masukkan inputan : \")#pisahkan dengan spasi misal cici sisy\n",
        "inputan = list(inputan.split(' '))\n",
        "kamus = ['ARDI', 'BILI', 'BILAL', 'CICI', 'DATUL', 'DIYANK', 'FARELL', 'FATONI', 'FATTAH', 'GIO', \n",
        "         'KHALIF', 'LUTHFI', 'MAUL', 'NARIS', 'RIFQY', 'REKSA', 'RAY', 'SISY', 'VIKA', 'YAZID', 'ZIDAN']\n",
        "hasil = []\n",
        "\n",
        "for i in inputan:\n",
        "  if i.upper() in kamus:\n",
        "    hasil.append(i)\n",
        "\n",
        "if (len(hasil) == len(inputan)):\n",
        "  print(\"ACCEPTED\")\n",
        "else:\n",
        "  print(\"NOT ACCEPTED\")"
      ],
      "execution_count": 3,
      "outputs": [
        {
          "output_type": "stream",
          "text": [
            "Masukkan inputan : cici sisy\n",
            "ACCEPTED\n"
          ],
          "name": "stdout"
        }
      ]
    },
    {
      "cell_type": "markdown",
      "metadata": {
        "id": "alWmoSeYW6jG"
      },
      "source": [
        "# **4. String Kalimat**\n",
        "L(G4) = { (ab;) n ⎹ n > 0 } = { ab, abab, ababab, ......}"
      ]
    },
    {
      "cell_type": "markdown",
      "metadata": {
        "id": "JMUT4dUeYGhC"
      },
      "source": [
        "![image.png](data:image/png;base64,iVBORw0KGgoAAAANSUhEUgAAARQAAABbCAYAAACyCXp0AAAABHNCSVQICAgIfAhkiAAAGDpJREFUeF7tXQewFMXTH56gGFEwgChKsPQ9BRVBUEBREBMoqRQFRBSVLCImkgEpEwUoKEooQBRRQTHXAwMSpRAJRRAJhZLhKdGAIPP1b/j2/nuzs3t79/Y23XTVFuzs7ExP7+/1zfT0dJfgRCxEtHXrVvbzzz+zNWvWiH9xv27dOnbgwIHEVatWLfbjjz+yk046KXFVrVqVnXPOOezCCy9kF110kbgqVKgQopFpVrQEjkogzhgvEbRCKSoqYt988w379ttvxVVQUCAUh6EYcH/66acnKQ8oErOCwf937drFVq1alVBEJ598Mlu9ejW7/vrrxdWoUSNWrlw5jWktAd8lkEsYD0Sh/Pvvv+ztt98W1++//86qV6+e+MOvVq2aZx987dq1CUUFZVO2bFl2zz33iKtUqVKe9aMb0hKQJZCzGMcMxS+aO3cuv/POO/mxxx7LO3XqxGfPnu1X16Kf77//nt9///2clAlv06YNnzdvnq/9687iL4Fcxzjz4xMXFhbya665hl977bV8ypQpfnSZso/33nuPX3311bxhw4Z85syZKevrCloCThLQGD8qnawueWgGwvr27ctOPPFE1q9fP0ZKRZ4ZKu+XLl0q7B+GcfaYY44RRtj9+/eLyzDKwk6Cq3bt2uy///4TdhdcsLtceumlyrblwlmzZrHBgwezw4cPs+eff57Vq1dPrqLvtQRsJZApxm0bzMIDPzGeFYVy6NAhRksatnHjRjZs2DBWs2ZNRzFBccyYMSNh77jtttvYkSNHxE4NFER+fj4rXbq0UB64DKOsoWD+/vtvoYCwM4QrLy+PffbZZwm7zA033CDaciIorF69erELLriAjRs3TrShSUvATgLpYtyuHT/LfcG40zQuk2cTJkwQNoqJEyc6vv7HH3/w4cOH8yuuuIK3bt2a9+zZk0+fPp3v27fP8T23D/fu3cs//vhj3qNHD96qVStOsxr+2muv8d27dzs2MX78eE7KJCX/jo3oh7GWgFuMh1UI2cS4pzaU5s2b8wEDBjjKccWKFfzee+/lp512Gn/44Yc5aU3H+l49XLRokVAup556Ku/YsSOnXR/Hpvv37y8UkSYtAbME3GA8KhLLBsY9USiLFy/mp5xyipgR2NFPP/3E8TEuvvhi/sEHH9hV86UchmFaRvGWLVtystfY9jl16lSh+Jzq2L6sH8RKAm4wHsUBe43xYisUTJ/IRsKxxLCjBx54gLdr185R4di9m83yadOm8bZt2/LOnTvbdoOlGRl49RLIVkLxf+AG41GWgpcYL5blEbsiy5YtY6S9Gc1QLPYlsqOwEiVKiF2YSZMmMZqhWOoEWUAzFPbOO++IHaGSJUsKHmWiGQrDrhMtmdiLL74oP9b3MZdAKozHYfheYjxjhdK9e3d28OBBsYujIuzULFmyBDMgRjMUVZXQlNEMRYwFirFFixZKvkaMGMFoFiZ2guJMvXv3ZldddRVr3Lgxq1u3LiN/nTgP13FsqTDu+HIEH3qC8UymamPHjuWkuZWvLly4kJPfCf/000+Vz8NeCDsQ7EF2xuJnn32WYwocV6pSpUpip23z5s2czlFx2A9yjZwwHndZFAfjadtQunXrZqtMsJ0Gj1g6rBdpmcMe1KBBA07LIeU4nnnmGbFDFUfasmVL0rCaNm1q+73jOH6MyQnjcR2zPK5MMZ7WkgfrSay34PUq05AhQ9h3333H6LyM8IyNMsEeBA/Ir776Srmke/rpp9nxxx8fS5vKnDlz2HXXXSfsXljyzJ8/n23fvj3KnzMt3p0wnlZDEa+cKcZdKxSa5ouTwYMGDbKI6vXXX2c7duxgNEOxPItyAQy2mzZtYqNHj7YM44UXXmD0ay5OTMeFEEaCdr3Yc889J4zQP/zwg1Au9OsVlyE6jsMJ444vxvRhRhiXpzqqe6yhsTWsopEjR/IuXbqoHsWm7KGHHuKjRo1SjqdGjRqcdrqUz6JWSL9K/Nxzz01iG0seLAHiTk4Yj/vYU40vHYy7sqHASKnyM3nllVd4nz59UvETi+e0u8NpR8syFpq1cYqzYimPYgEcDukgJocTIojOYgnHvlxQKHYYj+J39JrndDCeUqHAu1XlAQsDbIcOHbzmPdTtwQlOZaj98MMPxXmkqBMdyORPPPEEr1ixIqdT17x9+/bCOH3WWWfxRx99NOrDs+XfDuO2L+TgA7cYd1QoUBoDBw60iA9bw9jNyUVCDBXVNioZqjk5xuWiSCI9ZjuMR3pQWWLeDcZtwxfgeDZ2axDKTiaED4ARNuq7OfK43NzDue28885je/bssVRHyAPEZYF3sKbwS8AJ4+HnPhgOU2HcdpcH8UzIucfCNTxg4T2Zi8oEwihTpgzDbgDc9mWCvCA3TdGQgB3Go8F9MFymwrhSocAHA8GREMzZTDibQ56UrFmzZsGMJiS9wj0fKTvefffdJI7uu+8+EWUOvhuawi0BO4yHm+vguUuJcdVyq379+ko7AQ1HVT0ny2i6zOlAoWXssC8hdq6mcEvADuPh5joc3Dlh3DJDQSjGE044wRK28cEHH1Q6eAWvM4PhAKeTKQIc69q1axIDV155JUMMXOQY0hROCdhhPJzcho8rR4zLOg+7N0g3YSb4JSCeiSarBO666y6+fPnypAfkccopuZi1si7JqgQotjCn5WbKPlQYT/mSruAK40kzFMpTI4Izy9Hp4YpN4RDDpypDwBGMs5CPmZCpEOEQaGoYAg5zhwVKhyKOCiD8woIFC5QDt8O4srIutJWALcbNagdJuOS8OYgBi7CNmuwlQJH5ORljkyrAAQ6OcJr8lQBlLcDBI067cZwON1pmLCqM+8thfHpTYTxhZaVfVJHRTyYElA46BqzMU9juJ0+eLDISyoTo+eSXIhfr+yxK4PPPPxfxbKBUzIoFhkQ7jGeRndg3LWM8oVDGjBkj0oOaCbEmcZZDU2oJUL4gSwoQKGMD2Prfo3/gbuRAy5ZiyQ2ZDeR+aKOBqzCe+svqGk4SAMbNAccSNhQcw5f9TlRltouqHH8A2cmhDFBmHP+njyLCAOgrtQywQ5apnGiGIpLEGQRHxDp16ohdN41n7/9ILbiH9tm1a5fSToIkXHahEJ20Vi4+o9ghnIBrGTplLOSY6WnyRwJmGwq+BxlhRcd2GPeHq3j3Ysa4mKEgsM4ll1ySpL7g8QmvWFIq3qu1GLaIX0F4z65bty5pdGTQ1j4pPn1vpJ9FQCx8iy+//FIEiKLDnKJ3FcZ9Yiv23ZgxLhQKpoPYBjITnH8qVKgQe2F4OUA65i9yNJsJctVObl5K2b4t5LCG4jArEqO2CuP2Lekn6UjAjHFbhaI/QDoiPVpXpTxUZem3rN9wI4HSpUsnZiRyfY1nWSLe3ScplK1bt7KCggJWrVq1pB70B0hf4CrlQetLVrVqVbZz5870G9RveCIBO4x70rhuhJkxngdbCaW9SBILMuUhTAFthWpxpSEBZAS46aabGDkDJr21f/9+cQpZUzASUGE8GE7i26uB8bw1a9Yw8vRMGunq1auTtt7iKwbvR3b48GEG+ZkJ8oWcNQUjARXGg+Eks17xx0qB0kXgrlmzZmXWSJbfMjAuZiiYsphJVZZlfjJqHtHkkD8kPz9f5Cem6NzKoFAZNZ7hS5ClPBtRlWXYvH4tAwlEBc+qoSHXFWWcYOS+oXocmjID43nG+tLMWVQ0OnnpiSBHsPcgaTsiqVFGPzZ06NDABK2ajcBGhRw+moKRgArjwXCSfq+UFlRESOzYsWP6L/v4hoHxPPhNUP7apK4RzwO/+mGmuXPnCkFD4Mb2NnxmMDUcMGCASEoWBEFTyzFlId/169cHwY7ukySgwnhUBINt8Fq1aoWeXQPjeTDIIui0mTC9whZcEASDZuPGjUWqzzPPPJPRoTuGzIT4Iy1fvjzr2bOnYItORYt/mzRpksTmjTfeyP766y/2ySefBMG+CE5FUfGT+oZxG+tgTcFIQIXxYDg52qtbjKM2ftyjQAbGS6qEDfAHscODZQGFTxRb2CtXrhSep5QPhFGSLSHTr7/+OuHRi50o8HjGGWckydvY/l6yZEkg3wF5kfft25fUt1YogXyKRKcqjAfFUToYD4rHTPo1MK6coQSlUCgTIaNzL2JGArd/Cqcgcu1iK1YmOpvB8Mcrk1GG50GQVihBSN25zzAplHQw7jyqcD1NKBSsz+Qlj6rMD/Zh0cZSS14zIoalTHTcymKrkOsEcQ/ByuefVGVB8JarfQaFZ5W808G46v2wlhkYz4O9RHZsU5X5MRAYUuEcJpOqDEsdJN2SyVhuyEshuV627jG7k20oqrJs9a/btUogKDxbOWFis0CFZ1WZ6v2wlhkYz8PsRFYoQa35y5UrJ5Y8Mu3evVsuYpdffrkwdMpLG+O072WXXWZ5x48CKDR5KRbUEtKP8UahDxXGg+I7HYwHxWMm/RoYD5VCMQLfLlq0KGlMKqceig0q6sBQayYjRcLtt9+eiVyK/Y5WKMUWoecNhEmhpINxzwWRxQYdFUrt2rUZpSTIYvfqpvv06cPKli3LevTowX777TcGN3bs8uA4ukwNGjRglMJCeMpu27ZNPKZ0H+ytt95igwYNsvjWyO9n6x5yk20oeoaSLWm7azdMCiUdjLsbXThqJRQKTsLKywYk/JbPo/jBdsWKFRnlBBJ5k+FxiqTkSOv5+OOPK7ufMGECa9OmjQizCLd7eM4OHz6c9e7dW1nfj8JVq1ZZuikqKmKVK1e2lOsCfySgwrg/PVt7SRfj+ME8//zzxQ8nCHjHvZwG19qTvyUGxkvC1wN/BAhOY5DKfdwv9hA5Dt6BZqJw/crusa2MnDhyXhxlZZ8KVccW4FNTqVIlnzjQ3cgSUGFcruPnfToYhyc4rrCTgfE8lfJQlYV9QGHhT6VQVGVh4TcX+NB4zv5XNjCepzoJi4M+yCCoKX0JIOcx5GemKJ92TV8C4XtDhfHwcRltjgyMC4WCbWIzIRQAAv7KLuRBDPnWW29NnN/BGR/jLE8QvKTqE1vehYWFDEF7zYRtZDlERKq29HPvJKDCuHetF7+lKGHcbrQGxkvipC4MsGvXrmWUgiBR3whn2Lx5c7s2fCn/4osvfOnHi05UYTMh2w0bNljOHHnRn27DnQTsMO7u7ezXihLGVdIwY1ysa1SxUFVlqsZ02f8koFIoqjLZd0bLMPsS0HjOnozNGLdVKNj1QWAaTe4lsH37dks4BbOwcTAMZ5XuuOMO943qmp5IQCsUT8SobMSiUBo1amTxO8G689dffw196DnlCAMohPMdHOzg82AmTAexpYb4Ltj+K1WqFHv11VcD4DC3u1RhPLcl4t3ogXEobJCYoeB8AQ4nzZ49O6kXS95S73iIXUty3txDhw6J6HGwfr/00kvsn3/+YX/++acIwNS+ffvYjT/sA7LDeNj5Djt/mJ3ARkUJ6o+yamRdHTt2LKfoaElJWOlQHkcme02pJUDu3ZzcjxMVO3TowGnrnZOUExdF30q6Nz8L4//JAzlS/KaSIb6HjPHUX1bXcJIAcE4e64kqJfA/qBb8osLlHZHkzYTguAhwZBzGS3qob4QE4AaNIwOjR49OSATyhCfvcccdx+CbgtkJCGEtd+zYoSUXgATsMB4AK7HpEv5qOKpjxFE+5hkijA6xK+GCjwN55sTp8DLs2rUr69atW2yE4PVAWrduLaLMYVptEAJoQ0HjwCIUypw5c4RBFsKHKzh8fTT5KwE7jPvLRXx6w5EYLOFbtmz5v0GZpzPz5s3jlK3eMsOhF/i0adMs5bqA8/fff5/Tro1FFBRlji9cuDCpnGwpnGYtnE5UW+rrAn8kYIdxf3qPVy8qjCf515MyEdN0OTvZwIED2UcffRQf1erhSKZPn84gHzPBzwSeg3LoSpyaPnjwYCJiv4ds6KZcSsAO4y5f19X+XwJ2GGeyzpw5cyYnF3e5mHfu3JmPGjXKUp7LBSNGjODdu3e3iKBhw4acYodaynVBOCRgh/FwcBcNLuwwblEoGA6lsuAUNc0yMuxSkI3FUp6LBbQNzMngahn6ggULOPk8WMp1QbgkYIfxcHEZTm6cMK5UKJSVj9erV88yGvK14JTq01KeiwWYmdDujmXoderU4eTkZinXBeGSgB3Gw8VlOLlxwrgyRgEpE3FQEBHRzASHLHjPwm6QyzR16lQGN/u77747SQzky8OqV6/OSOC5LJ5IjN0O45FgPkAmU2E84Yci83jkyBHhJo5tTpnKlCnDNm3aZInuLteL4z1CFEDZyrmT6bdEbL1DblEkjOuWW25hyLiIuLwIpxl3csJ43MeeyfjcYFw5Q0FncFjBDAWJx2WCu23Tpk3l4py4x7jlEJUYeP/+/ZldqMooCAbBwXEeKah8RkHIyAnjQfAT9j7dYNxWoWBwWOLg4A/5oCSNFVHdcU6lXbt2YZeBp/whQDDZkJic84d8Udj69estSyBPO9eNZUUCdhjPSmcRbtQtxm2XPOax49cLfzBydrNhw4aJpc/QoUMjLCp3rCNSHJY6SPFhJmQMQIS2nTt3umso5LXgxfvII48Iz95ly5aJZRy+c7NmzULOefHYs8N48VqNx9tpYdyNHXnp0qWcXMWVVWm9zWm2onwWl8JOnTpxHJ5UESkTvmLFCtWjSJZRmgeen5/Pyfgu+H/zzTeFd+/GjRsjOR63TDth3G0bca2XDsaV28YqwUycOJHTr7PqkXB469Wrl/JZ1AsxZjtlAme/yZMnR32ISfxDofTt2zdRRkZ5Xr58eU5evrEap2owThhX1c+FsnQx7mhDMU/YEBvl7LPPZk899ZRlHkediqRccbOpwGaCZQ4debeMGW70VapUEdkL40ZIJGUQDJcIGhVE4je/5eqEcb95CUN/mWDctULBAJ988kmRolSVeIhmKOzmm29m2N/fu3dvGOSRMQ/YQsU4WrRoYbGZoFGc3cGW42OPPZZxH/rFcErACePh5Dg7XGWM8UymbePHj+ekVJSvLl68mJOfCqfDhMrnYS+kXMriNDD5YyhZpa0zPmnSJOWzOBTm8pLH/P2cMB6H7+w0huJgPK0ZiqEL4fSEX3HV8qdmzZpsz549jP7oxK874qtEgXAKGPxiewxOa/LWMMaAKSBmaHFb2snfh+xCbPPmzaJ4zJgx4lt36dJFrhbreyeMx3ngxcV4RgoFAkVScnjM2iXeQrgDuKAjODMZbUP9DUaOHCnGgqPtNENR8oo/KDh9DRkyRPk86oVQGnXr1mXYIqSwfsJTFnaxl19+WcjEbFeJ+ljd8p8K427biUo9TzDuNPVx8wyW8Ro1anD6VbetToxyMl5yLCfCRAiOBL5UIQgMPsm/hGPbTHUQMExj0bxkTwJuMJ693rPfspcYd71t7DQscoASdgcnhbF8+XJOoRI5hZTkFB7RqbmsP4MNhHZvRKQ1Jx+SKVOmcJqVONbJOrO6g1BIwA3GQ8Fomkx4jXFPFIoxBiiMfv36OQ6J0kpwOIpRPmVOcWp9O+qPGA6YKSE6Pfr/5ZdfbPmkHRzhi0GBuW3r6Ae5KQE3GI+CZLKFcU8VCgSJX3+KgM3HjRvnKFdKxM7JdsERW6FVq1acAmFzCgvAaS3v+J7bh1iCYcYEJULbv5zsA/yNN95ISnWhaouMkIL/uDmsqcaqyzKTgFuMZ9Z69t/KJsZdneVJ16hEImE0CxBJrnAORI6tKre3bt06NmPGDIZTzLiQtgO7Q8heiKj7+BfRtRGnFRfNbhjlwGGklMSFnRdE7F+zZo24EGW+sLBQZDPD1aRJE0tGP5kHnLSFLw3imWBnQ5OWgJME0sW4U1t+PfMD41lRKIaA5s+fz2jpIA6Y0VIoka4wlQDJriE8M6GQoCCQ84P8WxIKBKedcW8oGNyDoHxwFRQUiAN7bgjBdgcPHix4xL86OJIbqek6hgQyxbifEvQV49mfYHFO8UM4zRR4/fr1OcUM8aPLlH1g2oo0AAjIrQNKpxSXrpBCAhrjRwXkuQ3FSe6Itdq2bVuRopP8HDgtb5yqe/4MHx2pE2EjIec0S94czzvUDeacBHId41ld8thN63AOBsnFcW3btk0sTwx7B+wlXhGWTYZdBv9HUmccAMNlpE70qi/djpaAWQK5ivFAFIpZ8JSQPfFHjz9+nOA9cOBAwhgLZYMUnzDEmi8YZc1XUVERW7lypbC5wPYC+8qGDRsSigoKK5EhXmNfS8BHCeQSxgNXKPJ3ReQzwxiLf7ds2SKixZmVh2GUNSuYypUrs0qVKiUUEWY6uRQfVZajvg+vBOKM8f8DPjGtc8IbTlMAAAAASUVORK5CYII=)"
      ]
    },
    {
      "cell_type": "code",
      "metadata": {
        "id": "70em29EVW5n_",
        "outputId": "27dabdcb-ec9b-494e-8662-7223bdbd365c",
        "colab": {
          "base_uri": "https://localhost:8080/"
        }
      },
      "source": [
        "def start(c): \n",
        "    if (c == 'a'): \n",
        "        dfa = 1 \n",
        "    else: \n",
        "        dfa = -1\n",
        "    return dfa \n",
        "  \n",
        "def state1(c):  \n",
        "    if (c == 'b'): \n",
        "        dfa = 0\n",
        "    else: \n",
        "        dfa = -1\n",
        "    return dfa \n",
        "  \n",
        "def cek(String): \n",
        "    l = len(String) \n",
        "    dfa = 0\n",
        "    for i in range(l):  \n",
        "        if (dfa == 0):  \n",
        "            dfa = start(String[i])  \n",
        "        elif (dfa == 1):  \n",
        "            dfa = state1(String[i])   \n",
        "\n",
        "    if (dfa == 0) : \n",
        "        print(\"ACCEPTED\") \n",
        "    else: \n",
        "        print(\"NOT ACCEPTED\")\n",
        "   \n",
        "cek(\"a\")\n",
        "cek(\"b\") \n",
        "cek(\"ab\")  \n",
        "cek(\"abab\") \n",
        "cek(\"ababab\") "
      ],
      "execution_count": 4,
      "outputs": [
        {
          "output_type": "stream",
          "text": [
            "NOT ACCEPTED\n",
            "NOT ACCEPTED\n",
            "ACCEPTED\n",
            "ACCEPTED\n",
            "ACCEPTED\n"
          ],
          "name": "stdout"
        }
      ]
    },
    {
      "cell_type": "markdown",
      "metadata": {
        "id": "oY_li4AaWUQi"
      },
      "source": [
        "# **5. String Kalimat**\n",
        "L(G5) = { 01(ab)*10 ⎹ n > 0 } = { 01ab10, 01abab10, 01ababab10,...\n",
        "}"
      ]
    },
    {
      "cell_type": "markdown",
      "metadata": {
        "id": "BGL4kUQHWPc1"
      },
      "source": [
        "![image.png](data:image/png;base64,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)"
      ]
    },
    {
      "cell_type": "code",
      "metadata": {
        "id": "q7DzDLVyTNFl",
        "outputId": "b0d93a95-182d-4b8a-f68c-949eea0dd729",
        "colab": {
          "base_uri": "https://localhost:8080/"
        }
      },
      "source": [
        "def start(c): \n",
        "    if (c == '0'): \n",
        "        dfa = 1 \n",
        "    else: \n",
        "        dfa = -1\n",
        "    return dfa \n",
        "  \n",
        "def state1(c):  \n",
        "    if (c == '1'): \n",
        "        dfa = 2\n",
        "    else: \n",
        "        dfa = -1\n",
        "    return dfa \n",
        "  \n",
        "def state2(c): \n",
        "    if (c == '1'): \n",
        "        dfa = 4\n",
        "    elif (c == 'a'): \n",
        "        dfa = 3\n",
        "    else: \n",
        "        dfa = -1\n",
        "    return dfa \n",
        "   \n",
        "def state3(c): \n",
        "    if (c == 'b'): \n",
        "        dfa = 2\n",
        "    else: \n",
        "        dfa = -1\n",
        "    return dfa \n",
        "  \n",
        "def state4(c): \n",
        "    if (c == '0'): \n",
        "        dfa = 5\n",
        "    else: \n",
        "        dfa = -1\n",
        "    return dfa \n",
        "  \n",
        "def cek(String): \n",
        "    l = len(String) \n",
        "    dfa = 0\n",
        "    for i in range(l):  \n",
        "        if (dfa == 0):  \n",
        "            dfa = start(String[i])  \n",
        "        elif (dfa == 1):  \n",
        "            dfa = state1(String[i])  \n",
        "        elif (dfa == 2) : \n",
        "            dfa = state2(String[i])  \n",
        "        elif (dfa == 3) : \n",
        "            dfa = state3(String[i])  \n",
        "        elif (dfa == 4) : \n",
        "            dfa = state4(String[i])  \n",
        "\n",
        "    if (dfa == 5) : \n",
        "        print(\"ACCEPTED\") \n",
        "    else: \n",
        "        print(\"NOT ACCEPTED\")\n",
        "   \n",
        "cek(\"0110\") \n",
        "cek(\"01a10\") \n",
        "cek(\"01b10\") \n",
        "cek(\"01ab10\") \n",
        "cek(\"01aba10\") \n",
        "cek(\"01abb10\") \n",
        "cek(\"01abab10\") "
      ],
      "execution_count": 5,
      "outputs": [
        {
          "output_type": "stream",
          "text": [
            "ACCEPTED\n",
            "NOT ACCEPTED\n",
            "NOT ACCEPTED\n",
            "ACCEPTED\n",
            "NOT ACCEPTED\n",
            "NOT ACCEPTED\n",
            "ACCEPTED\n"
          ],
          "name": "stdout"
        }
      ]
    }
  ]
}