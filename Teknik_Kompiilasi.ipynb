{
  "nbformat": 4,
  "nbformat_minor": 0,
  "metadata": {
    "colab": {
      "name": "Teknik Kompiilasi.ipynb",
      "provenance": [],
      "collapsed_sections": [],
      "authorship_tag": "ABX9TyPJxX0HNR2UAIRcDp+faajC",
      "include_colab_link": true
    },
    "kernelspec": {
      "name": "python3",
      "display_name": "Python 3"
    }
  },
  "cells": [
    {
      "cell_type": "markdown",
      "metadata": {
        "id": "view-in-github",
        "colab_type": "text"
      },
      "source": [
        "<a href=\"https://colab.research.google.com/github/Vputri/Teknik-Kompilasi/blob/main/Teknik_Kompiilasi.ipynb\" target=\"_parent\"><img src=\"https://colab.research.google.com/assets/colab-badge.svg\" alt=\"Open In Colab\"/></a>"
      ]
    },
    {
      "cell_type": "markdown",
      "metadata": {
        "id": "DY2tQGxSWclI"
      },
      "source": [
        "# **Program Finite Automata**"
      ]
    },
    {
      "cell_type": "markdown",
      "metadata": {
        "id": "2RKrUWAbmHq2"
      },
      "source": [
        "# **1. String Bilangan Genap**\n",
        "L(G1) = { 2, 4, 6, 8, 10, 12,..,18, 20, ..., 98, 100, 102,....., 998, 1000, 1002,...}"
      ]
    },
    {
      "cell_type": "code",
      "metadata": {
        "id": "zRHE9zAUYo82",
        "outputId": "9d9fbbe5-bc7d-40c5-81b3-54eb2e671b07",
        "colab": {
          "base_uri": "https://localhost:8080/"
        }
      },
      "source": [
        "def start(c): \n",
        "    if (c == '0' or c == '2' or c == '4' or c == '6' or c == '8'): \n",
        "        dfa = 0\n",
        "    elif (c == '1' or c == '3' or c == '5' or c == '7' or c == '9'): \n",
        "        dfa = 1\n",
        "    else: \n",
        "        dfa = -1\n",
        "    return dfa \n",
        "  \n",
        "def state1(c):  \n",
        "    if (c == '0' or c == '2' or c == '4' or c == '6' or c == '8'): \n",
        "        dfa = 0\n",
        "    elif (c == '1' or c == '3' or c == '5' or c == '7' or c == '9'): \n",
        "        dfa = 1\n",
        "    else: \n",
        "        dfa = -1\n",
        "    return dfa \n",
        "  \n",
        "def cek(String): \n",
        "    l = len(String) \n",
        "    dfa = 0\n",
        "    for i in range(l):  \n",
        "        if (dfa == 0):  \n",
        "            dfa = start(String[i])  \n",
        "        elif (dfa == 1):  \n",
        "            dfa = state1(String[i])   \n",
        "\n",
        "    if (dfa == 0) : \n",
        "        print(String,\"ACCEPTED\") \n",
        "    else: \n",
        "        print(String,\"NOT ACCEPTED\")\n",
        "   \n",
        "cek(\"a\")  \n",
        "cek(\"b\") \n",
        "cek(\"1\")\n",
        "cek(\"2\")\n",
        "cek(\"11\")\n",
        "cek(\"12\")\n",
        "cek(\"21\")\n",
        "cek(\"22\")\n",
        "cek(\"111\")  \n",
        "cek(\"112\") \n",
        "cek(\"121\")\n",
        "cek(\"222\")\n",
        "cek(\"1111\")\n",
        "cek(\"1211\")\n",
        "cek(\"1121\")\n",
        "cek(\"1112\")\n",
        "cek(\"2222\")\n",
        "cek(\"2122\")\n",
        "cek(\"2212\")"
      ],
      "execution_count": 1,
      "outputs": [
        {
          "output_type": "stream",
          "text": [
            "a NOT ACCEPTED\n",
            "b NOT ACCEPTED\n",
            "1 NOT ACCEPTED\n",
            "2 ACCEPTED\n",
            "11 NOT ACCEPTED\n",
            "12 ACCEPTED\n",
            "21 NOT ACCEPTED\n",
            "22 ACCEPTED\n",
            "111 NOT ACCEPTED\n",
            "112 ACCEPTED\n",
            "121 NOT ACCEPTED\n",
            "222 ACCEPTED\n",
            "1111 NOT ACCEPTED\n",
            "1211 NOT ACCEPTED\n",
            "1121 NOT ACCEPTED\n",
            "1112 ACCEPTED\n",
            "2222 ACCEPTED\n",
            "2122 ACCEPTED\n",
            "2212 ACCEPTED\n"
          ],
          "name": "stdout"
        }
      ]
    },
    {
      "cell_type": "markdown",
      "metadata": {
        "id": "yBeLcvcFmIhF"
      },
      "source": [
        "# **2. String Bilangan String Ganjil**\n",
        "L(G2) = { 1, 3, 5, 7, 9, 111,..,17, 19, ..., 97, 99, 101,....., 997, 999, 1001,... }"
      ]
    },
    {
      "cell_type": "code",
      "metadata": {
        "id": "U8s9ofx0a1Mg",
        "outputId": "0e54b908-3ce2-4bed-da7e-4dde568bc9f9",
        "colab": {
          "base_uri": "https://localhost:8080/"
        }
      },
      "source": [
        "def start(c): \n",
        "    if (c == '1' or c == '3' or c == '5' or c == '7' or c == '9'): \n",
        "        dfa = 0\n",
        "    elif (c == '0' or c == '2' or c == '4' or c == '6' or c == '1'): \n",
        "        dfa = 1\n",
        "    else: \n",
        "        dfa = -1\n",
        "    return dfa \n",
        "  \n",
        "def state1(c):  \n",
        "    if (c == '1' or c == '3' or c == '5' or c == '7' or c == '9'): \n",
        "        dfa = 0\n",
        "    elif (c == '0' or c == '2' or c == '4' or c == '6' or c == '1'): \n",
        "        dfa = 1\n",
        "    else: \n",
        "        dfa = -1\n",
        "    return dfa \n",
        "  \n",
        "def cek(String): \n",
        "    l = len(String) \n",
        "    dfa = 0\n",
        "    for i in range(l):  \n",
        "        if (dfa == 0):  \n",
        "            dfa = start(String[i])  \n",
        "        elif (dfa == 1):  \n",
        "            dfa = state1(String[i])   \n",
        "\n",
        "    if (dfa == 0) : \n",
        "        print(String,\"ACCEPTED\") \n",
        "    else: \n",
        "        print(String,\"NOT ACCEPTED\")\n",
        "   \n",
        "cek(\"a\")  \n",
        "cek(\"b\") \n",
        "cek(\"1\")\n",
        "cek(\"2\")\n",
        "cek(\"11\")\n",
        "cek(\"12\")\n",
        "cek(\"21\")\n",
        "cek(\"22\")\n",
        "cek(\"111\")  \n",
        "cek(\"112\") \n",
        "cek(\"121\")\n",
        "cek(\"222\")\n",
        "cek(\"1111\")\n",
        "cek(\"1211\")\n",
        "cek(\"1121\")\n",
        "cek(\"1112\")"
      ],
      "execution_count": 2,
      "outputs": [
        {
          "output_type": "stream",
          "text": [
            "a NOT ACCEPTED\n",
            "b NOT ACCEPTED\n",
            "1 ACCEPTED\n",
            "2 NOT ACCEPTED\n",
            "11 ACCEPTED\n",
            "12 NOT ACCEPTED\n",
            "21 ACCEPTED\n",
            "22 NOT ACCEPTED\n",
            "111 ACCEPTED\n",
            "112 NOT ACCEPTED\n",
            "121 ACCEPTED\n",
            "222 NOT ACCEPTED\n",
            "1111 ACCEPTED\n",
            "1211 ACCEPTED\n",
            "1121 ACCEPTED\n",
            "1112 NOT ACCEPTED\n"
          ],
          "name": "stdout"
        }
      ]
    },
    {
      "cell_type": "markdown",
      "metadata": {
        "id": "_26mMJLDl6X4"
      },
      "source": [
        "# **3. String Nama-Nama Mahasiswa Kelas 3IA88**\n",
        "L(G3) = {ARDI, BILI, BILAL, CICI, DATUL, DIYANK, FARELL, FATONI, FATTAH, GIO, KHALIF, LUTHFI, MAUL, NARIS, RIFQY, REKSA, RAY, SISY, VIKA, YAZID,\n",
        "ZIDAN }"
      ]
    },
    {
      "cell_type": "markdown",
      "metadata": {
        "id": "gQ0KdWdNBvzY"
      },
      "source": [
        "**Cara 1**"
      ]
    },
    {
      "cell_type": "code",
      "metadata": {
        "id": "uQgkzJxw3J5-",
        "outputId": "527d0022-86a7-4f5f-dd78-b242ea0caf7e",
        "colab": {
          "base_uri": "https://localhost:8080/"
        }
      },
      "source": [
        "def start(c):\n",
        "    if (c == 'A' or c == 'M' or c == 'N'): \n",
        "        dfa = 1 \n",
        "    elif (c == 'B' or c == 'C' or c == 'D' or c == 'F' or c == 'L' or c == 'V' or c == 'Y'): \n",
        "        dfa = 2\n",
        "    elif (c == 'K'): \n",
        "        dfa = 3\n",
        "    elif (c == 'G' or c == 'Z'): \n",
        "        dfa = 4\n",
        "    elif (c == 'R' or c == 'S'): \n",
        "        dfa = 5\n",
        "    else: \n",
        "        dfa = -1\n",
        "    return dfa \n",
        "  \n",
        "def state1(c):  \n",
        "    if (c == 'I'): \n",
        "        dfa = 0\n",
        "    elif (c == 'R' or c == 'D' or c == 'H'): \n",
        "        dfa = 1\n",
        "    elif (c == 'L' or c == 'A'): \n",
        "        dfa = 3\n",
        "    else: \n",
        "        dfa = -1\n",
        "    return dfa \n",
        "  \n",
        "def state2(c): \n",
        "    if (c == 'S' or c == 'D' or c == 'H'): \n",
        "        dfa = 0\n",
        "    elif (c == 'L' or c == 'Y' or c == 'E'): \n",
        "        dfa = 1\n",
        "    elif (c == 'I' or c == 'A' or c == 'T' or c == 'R' or c == 'Z'): \n",
        "        dfa = 2\n",
        "    elif (c == 'C' or c == 'U' or c == 'O'): \n",
        "        dfa = 3\n",
        "    elif (c == 'K'): \n",
        "        dfa = 6\n",
        "    else: \n",
        "        dfa = -1\n",
        "    return dfa \n",
        "  \n",
        "   \n",
        "def state3(c): \n",
        "    if (c == 'L' or c == 'I' or c == 'K'): \n",
        "        dfa = 0\n",
        "    elif (c == 'R'): \n",
        "        dfa = 2\n",
        "    elif (c == 'N' or c == 'H' or c == 'T' or c == 'F' or c == 'U'): \n",
        "        dfa = 3\n",
        "    elif (c == 'A'): \n",
        "        dfa = 4\n",
        "    else: \n",
        "        dfa = -1\n",
        "    return dfa \n",
        "  \n",
        "def state4(c): \n",
        "    if (c == 'O' or c == 'F'): \n",
        "        dfa = 0\n",
        "    elif (c == 'L' or c == 'I'): \n",
        "        dfa = 4\n",
        "    elif (c == 'D'): \n",
        "        dfa = 5\n",
        "    else:\n",
        "        dfa = -1\n",
        "    return dfa \n",
        "\n",
        "def state5(c): \n",
        "    if (c == 'Y' or c == 'F' or c == 'N'): \n",
        "        dfa = 0\n",
        "    elif (c == 'I' or c == 'F' or c == 'Q' or c == 'A' or c == 'E' or c == 'K'): \n",
        "        dfa = 5\n",
        "    elif (c == 'S'): \n",
        "        dfa = 6\n",
        "    else:\n",
        "        dfa = -1\n",
        "    return dfa\n",
        "\n",
        "def state6(c): \n",
        "    if (c == 'A' or c == 'Y'): \n",
        "        dfa = 0\n",
        "    else:\n",
        "        dfa = -1\n",
        "    return dfa \n",
        "  \n",
        "def cek(String): \n",
        "    l = len(String) \n",
        "    dfa = 0\n",
        "    for i in range(l):  \n",
        "        if (dfa == 0):  \n",
        "            dfa = start(String[i])  \n",
        "        elif (dfa == 1):  \n",
        "            dfa = state1(String[i])  \n",
        "        elif (dfa == 2) : \n",
        "            dfa = state2(String[i])  \n",
        "        elif (dfa == 3) : \n",
        "            dfa = state3(String[i])  \n",
        "        elif (dfa == 4) : \n",
        "            dfa = state4(String[i]) \n",
        "        elif (dfa == 5) : \n",
        "            dfa = state5(String[i])  \n",
        "        elif (dfa == 6) : \n",
        "            dfa = state6(String[i])  \n",
        " \n",
        "\n",
        "    if (dfa == 0) : \n",
        "        print(String,\"ACCEPTED\") \n",
        "    else: \n",
        "        print(String,\"NOT ACCEPTED\")\n",
        "   \n",
        "cek(\"NADA\")\n",
        "cek(\"HANIF\")\n",
        "cek(\"ARDI\")\n",
        "cek(\"BILI\") \n",
        "cek(\"BILAL\")  \n",
        "cek(\"CICI\")\n",
        "cek(\"DATUL\")\n",
        "cek(\"DIYANK\") \n",
        "cek(\"FARELL\") \n",
        "cek(\"FATONI\")\n",
        "cek(\"FATTAH\") \n",
        "cek(\"GIO\") \n",
        "cek(\"KHALIF\") \n",
        "cek(\"LUTHFI\") \n",
        "cek(\"MAUL\")\n",
        "cek(\"NARIS\") \n",
        "cek(\"REKSA\")\n",
        "cek(\"RAY\") \n",
        "cek(\"SISY\") \n",
        "cek(\"VIKA\")\n",
        "cek(\"YAZID\") \n",
        "cek(\"ZIDAN\") "
      ],
      "execution_count": 3,
      "outputs": [
        {
          "output_type": "stream",
          "text": [
            "NADA NOT ACCEPTED\n",
            "HANIF NOT ACCEPTED\n",
            "ARDI ACCEPTED\n",
            "BILI ACCEPTED\n",
            "BILAL ACCEPTED\n",
            "CICI ACCEPTED\n",
            "DATUL ACCEPTED\n",
            "DIYANK ACCEPTED\n",
            "FARELL ACCEPTED\n",
            "FATONI ACCEPTED\n",
            "FATTAH ACCEPTED\n",
            "GIO ACCEPTED\n",
            "KHALIF ACCEPTED\n",
            "LUTHFI ACCEPTED\n",
            "MAUL ACCEPTED\n",
            "NARIS ACCEPTED\n",
            "REKSA ACCEPTED\n",
            "RAY ACCEPTED\n",
            "SISY ACCEPTED\n",
            "VIKA ACCEPTED\n",
            "YAZID ACCEPTED\n",
            "ZIDAN ACCEPTED\n"
          ],
          "name": "stdout"
        }
      ]
    },
    {
      "cell_type": "markdown",
      "metadata": {
        "id": "EMGjeUGCB0wT"
      },
      "source": [
        "**Cara 2**"
      ]
    },
    {
      "cell_type": "code",
      "metadata": {
        "id": "TIn1lVTnFic0"
      },
      "source": [
        "dfa = {0:{'A':1, 'B':2, 'C':2, 'D':2, 'F':2, 'G':4, 'K':3, 'L':2, 'M':1, 'N':1, 'R':5, 'S':5, 'V':2, 'Y':2, 'Z':4},\n",
        "       1:{'R':1, 'D':1, 'I':0, 'A':3, 'H':1,'L':3},\n",
        "       2:{'I':2, 'L':1, 'C':3, 'Y':1, 'A':2, 'T':2, 'U':3, 'R':2, 'E':1, 'O':3, 'H':0, 'S':0, 'K':6, 'Z':2,'D':0},\n",
        "       3:{'L':0, 'I':0, 'N':3, 'K':0, 'H':3, 'A':4, 'T':3, 'F':3, 'U':3, 'R':2},\n",
        "       4:{'I':4, 'O':0, 'F':0, 'L':4, 'D':5},\n",
        "       5:{'I':5, 'F':5, 'Q':5, 'Y':0, 'A':5, 'E':5, 'K':5, 'S':6, 'N':0},\n",
        "       6:{'A':0, 'Y':0}}\n",
        "\n",
        "def accepts(transitions,initial,accepting,s):\n",
        "    state = initial\n",
        "    for c in s:\n",
        "        state = transitions[state][c]\n",
        "    return state in accepting"
      ],
      "execution_count": 4,
      "outputs": []
    },
    {
      "cell_type": "code",
      "metadata": {
        "id": "mDrGsh_UoHyu",
        "outputId": "b70e8f0e-5627-41e6-e3c9-d3856b4e18e6",
        "colab": {
          "base_uri": "https://localhost:8080/"
        }
      },
      "source": [
        "accepts(dfa,0,{0},'ARDI')"
      ],
      "execution_count": 5,
      "outputs": [
        {
          "output_type": "execute_result",
          "data": {
            "text/plain": [
              "True"
            ]
          },
          "metadata": {
            "tags": []
          },
          "execution_count": 5
        }
      ]
    },
    {
      "cell_type": "code",
      "metadata": {
        "id": "l0zinLz6ayRv",
        "outputId": "814c9c70-dbeb-43a4-f92a-23fe9f08351a",
        "colab": {
          "base_uri": "https://localhost:8080/"
        }
      },
      "source": [
        "accepts(dfa,0,{0},'BILI')"
      ],
      "execution_count": 6,
      "outputs": [
        {
          "output_type": "execute_result",
          "data": {
            "text/plain": [
              "True"
            ]
          },
          "metadata": {
            "tags": []
          },
          "execution_count": 6
        }
      ]
    },
    {
      "cell_type": "code",
      "metadata": {
        "id": "0Zs-_Hg_a0AX",
        "outputId": "175c04b7-9a7e-47cf-b0b2-9d904641ec3f",
        "colab": {
          "base_uri": "https://localhost:8080/"
        }
      },
      "source": [
        "accepts(dfa,0,{0},'BILAL')"
      ],
      "execution_count": 7,
      "outputs": [
        {
          "output_type": "execute_result",
          "data": {
            "text/plain": [
              "True"
            ]
          },
          "metadata": {
            "tags": []
          },
          "execution_count": 7
        }
      ]
    },
    {
      "cell_type": "code",
      "metadata": {
        "id": "c8Pj5k-va1kP",
        "outputId": "5cfe2149-189f-44dc-9682-a5ec7bf37d28",
        "colab": {
          "base_uri": "https://localhost:8080/"
        }
      },
      "source": [
        "accepts(dfa,0,{0},'CICI')"
      ],
      "execution_count": 8,
      "outputs": [
        {
          "output_type": "execute_result",
          "data": {
            "text/plain": [
              "True"
            ]
          },
          "metadata": {
            "tags": []
          },
          "execution_count": 8
        }
      ]
    },
    {
      "cell_type": "code",
      "metadata": {
        "id": "IKUF6j44a3CX",
        "outputId": "caaab733-fbf4-41db-a63f-f02d72ebe882",
        "colab": {
          "base_uri": "https://localhost:8080/"
        }
      },
      "source": [
        "accepts(dfa,0,{0},'DATUL')"
      ],
      "execution_count": 9,
      "outputs": [
        {
          "output_type": "execute_result",
          "data": {
            "text/plain": [
              "True"
            ]
          },
          "metadata": {
            "tags": []
          },
          "execution_count": 9
        }
      ]
    },
    {
      "cell_type": "code",
      "metadata": {
        "id": "9RjmfHwla5ps",
        "outputId": "68c50e7e-41a8-446b-bd62-b221fc4bfb24",
        "colab": {
          "base_uri": "https://localhost:8080/"
        }
      },
      "source": [
        "accepts(dfa,0,{0},'DIYANK')"
      ],
      "execution_count": 10,
      "outputs": [
        {
          "output_type": "execute_result",
          "data": {
            "text/plain": [
              "True"
            ]
          },
          "metadata": {
            "tags": []
          },
          "execution_count": 10
        }
      ]
    },
    {
      "cell_type": "code",
      "metadata": {
        "id": "Dw_MIuBza7Ht",
        "outputId": "79b7fa68-e40f-4984-ee25-b352b5e87318",
        "colab": {
          "base_uri": "https://localhost:8080/"
        }
      },
      "source": [
        "accepts(dfa,0,{0},'FARELL')"
      ],
      "execution_count": 11,
      "outputs": [
        {
          "output_type": "execute_result",
          "data": {
            "text/plain": [
              "True"
            ]
          },
          "metadata": {
            "tags": []
          },
          "execution_count": 11
        }
      ]
    },
    {
      "cell_type": "code",
      "metadata": {
        "id": "VWwFhJQTa8dH",
        "outputId": "b006a8c3-5b3e-497f-da02-2b65d884a734",
        "colab": {
          "base_uri": "https://localhost:8080/"
        }
      },
      "source": [
        "accepts(dfa,0,{0},'FATONI')"
      ],
      "execution_count": 12,
      "outputs": [
        {
          "output_type": "execute_result",
          "data": {
            "text/plain": [
              "True"
            ]
          },
          "metadata": {
            "tags": []
          },
          "execution_count": 12
        }
      ]
    },
    {
      "cell_type": "code",
      "metadata": {
        "id": "ZB0-J3TNbCqs",
        "outputId": "43afcd3e-af07-4715-d459-8a6c4fb450a2",
        "colab": {
          "base_uri": "https://localhost:8080/"
        }
      },
      "source": [
        "accepts(dfa,0,{0},'GIO')"
      ],
      "execution_count": 13,
      "outputs": [
        {
          "output_type": "execute_result",
          "data": {
            "text/plain": [
              "True"
            ]
          },
          "metadata": {
            "tags": []
          },
          "execution_count": 13
        }
      ]
    },
    {
      "cell_type": "code",
      "metadata": {
        "id": "WYKvASZibF1d",
        "outputId": "ec8bad5f-7449-4903-be2b-21e45f14ccea",
        "colab": {
          "base_uri": "https://localhost:8080/"
        }
      },
      "source": [
        "accepts(dfa,0,{0},'KHALIF')"
      ],
      "execution_count": 14,
      "outputs": [
        {
          "output_type": "execute_result",
          "data": {
            "text/plain": [
              "True"
            ]
          },
          "metadata": {
            "tags": []
          },
          "execution_count": 14
        }
      ]
    },
    {
      "cell_type": "code",
      "metadata": {
        "id": "hSVfPvGUdlOi",
        "outputId": "2295c41f-c88a-4a23-f239-7453ac949659",
        "colab": {
          "base_uri": "https://localhost:8080/"
        }
      },
      "source": [
        "accepts(dfa,0,{0},'LUTHFI')"
      ],
      "execution_count": 15,
      "outputs": [
        {
          "output_type": "execute_result",
          "data": {
            "text/plain": [
              "True"
            ]
          },
          "metadata": {
            "tags": []
          },
          "execution_count": 15
        }
      ]
    },
    {
      "cell_type": "code",
      "metadata": {
        "id": "ovPMV3RceFnd",
        "outputId": "6e0496aa-32da-40ec-fc1f-19d3d8fda756",
        "colab": {
          "base_uri": "https://localhost:8080/"
        }
      },
      "source": [
        "accepts(dfa,0,{0},'MAUL')"
      ],
      "execution_count": 16,
      "outputs": [
        {
          "output_type": "execute_result",
          "data": {
            "text/plain": [
              "True"
            ]
          },
          "metadata": {
            "tags": []
          },
          "execution_count": 16
        }
      ]
    },
    {
      "cell_type": "code",
      "metadata": {
        "id": "Xk1q0ReveMh6",
        "outputId": "4369c004-b148-4dc0-d727-bc63e1ff21e9",
        "colab": {
          "base_uri": "https://localhost:8080/"
        }
      },
      "source": [
        "accepts(dfa,0,{0},'NARIS')"
      ],
      "execution_count": 17,
      "outputs": [
        {
          "output_type": "execute_result",
          "data": {
            "text/plain": [
              "True"
            ]
          },
          "metadata": {
            "tags": []
          },
          "execution_count": 17
        }
      ]
    },
    {
      "cell_type": "code",
      "metadata": {
        "id": "HP6OW2iJeS4p",
        "outputId": "4d660e6f-1c63-46b1-9a4e-80f3f2ff1453",
        "colab": {
          "base_uri": "https://localhost:8080/"
        }
      },
      "source": [
        "accepts(dfa,0,{0},'RIFQY')"
      ],
      "execution_count": 18,
      "outputs": [
        {
          "output_type": "execute_result",
          "data": {
            "text/plain": [
              "True"
            ]
          },
          "metadata": {
            "tags": []
          },
          "execution_count": 18
        }
      ]
    },
    {
      "cell_type": "code",
      "metadata": {
        "id": "jv5L7p7GeWIS",
        "outputId": "134ef24d-ad2d-4d48-c71c-59544d0e3603",
        "colab": {
          "base_uri": "https://localhost:8080/"
        }
      },
      "source": [
        "accepts(dfa,0,{0},'REKSA')"
      ],
      "execution_count": 19,
      "outputs": [
        {
          "output_type": "execute_result",
          "data": {
            "text/plain": [
              "True"
            ]
          },
          "metadata": {
            "tags": []
          },
          "execution_count": 19
        }
      ]
    },
    {
      "cell_type": "code",
      "metadata": {
        "id": "mx33XsONeZ0f",
        "outputId": "4ac78522-4969-4e4a-e96b-00752a61edd2",
        "colab": {
          "base_uri": "https://localhost:8080/"
        }
      },
      "source": [
        "accepts(dfa,0,{0},'RAY')"
      ],
      "execution_count": 20,
      "outputs": [
        {
          "output_type": "execute_result",
          "data": {
            "text/plain": [
              "True"
            ]
          },
          "metadata": {
            "tags": []
          },
          "execution_count": 20
        }
      ]
    },
    {
      "cell_type": "code",
      "metadata": {
        "id": "79KC6WTFebHe",
        "outputId": "a877dca7-0e1c-4e4a-a43a-cc9419269d7f",
        "colab": {
          "base_uri": "https://localhost:8080/"
        }
      },
      "source": [
        "accepts(dfa,0,{0},'SISY')"
      ],
      "execution_count": 21,
      "outputs": [
        {
          "output_type": "execute_result",
          "data": {
            "text/plain": [
              "True"
            ]
          },
          "metadata": {
            "tags": []
          },
          "execution_count": 21
        }
      ]
    },
    {
      "cell_type": "code",
      "metadata": {
        "id": "M8Ju6-nSedYc",
        "outputId": "bd38f176-7fd7-4053-9d29-89041ed804cd",
        "colab": {
          "base_uri": "https://localhost:8080/"
        }
      },
      "source": [
        "accepts(dfa,0,{0},'VIKA')"
      ],
      "execution_count": 22,
      "outputs": [
        {
          "output_type": "execute_result",
          "data": {
            "text/plain": [
              "True"
            ]
          },
          "metadata": {
            "tags": []
          },
          "execution_count": 22
        }
      ]
    },
    {
      "cell_type": "code",
      "metadata": {
        "id": "n9JpxNHvefc1",
        "outputId": "5bb36b15-ea4e-4c77-c9d9-a6f1d246999f",
        "colab": {
          "base_uri": "https://localhost:8080/"
        }
      },
      "source": [
        "accepts(dfa,0,{0},'YAZID')"
      ],
      "execution_count": 23,
      "outputs": [
        {
          "output_type": "execute_result",
          "data": {
            "text/plain": [
              "True"
            ]
          },
          "metadata": {
            "tags": []
          },
          "execution_count": 23
        }
      ]
    },
    {
      "cell_type": "code",
      "metadata": {
        "id": "sERNalxbehI5",
        "outputId": "da061b2a-3777-4bdb-8b1c-e0a5740cf17d",
        "colab": {
          "base_uri": "https://localhost:8080/"
        }
      },
      "source": [
        "accepts(dfa,0,{0},'ZIDAN')"
      ],
      "execution_count": 24,
      "outputs": [
        {
          "output_type": "execute_result",
          "data": {
            "text/plain": [
              "True"
            ]
          },
          "metadata": {
            "tags": []
          },
          "execution_count": 24
        }
      ]
    },
    {
      "cell_type": "markdown",
      "metadata": {
        "id": "alWmoSeYW6jG"
      },
      "source": [
        "# **4. String Kalimat**\n",
        "L(G4) = { (ab;) n ⎹ n > 0 } = { ab, abab, ababab, ......}"
      ]
    },
    {
      "cell_type": "markdown",
      "metadata": {
        "id": "JMUT4dUeYGhC"
      },
      "source": [
        "![image.png](data:image/png;base64,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)"
      ]
    },
    {
      "cell_type": "markdown",
      "metadata": {
        "id": "HmBB8519oxvE"
      },
      "source": [
        "**Cara 1**"
      ]
    },
    {
      "cell_type": "code",
      "metadata": {
        "id": "70em29EVW5n_",
        "outputId": "7b82d365-e57d-4a5f-dcf7-eabb3d9f69d7",
        "colab": {
          "base_uri": "https://localhost:8080/"
        }
      },
      "source": [
        "def start(c): \n",
        "    if (c == 'a'): \n",
        "        dfa = 1 \n",
        "    else: \n",
        "        dfa = -1\n",
        "    return dfa \n",
        "  \n",
        "def state1(c):  \n",
        "    if (c == 'b'): \n",
        "        dfa = 0\n",
        "    else: \n",
        "        dfa = -1\n",
        "    return dfa \n",
        "  \n",
        "def cek(String): \n",
        "    l = len(String) \n",
        "    dfa = 0\n",
        "    for i in range(l):  \n",
        "        if (dfa == 0):  \n",
        "            dfa = start(String[i])  \n",
        "        elif (dfa == 1):  \n",
        "            dfa = state1(String[i])   \n",
        "\n",
        "    if (dfa == 0) : \n",
        "        print(String,\"ACCEPTED\") \n",
        "    else: \n",
        "        print(String,\"NOT ACCEPTED\")\n",
        "   \n",
        "cek(\"a\")\n",
        "cek(\"b\") \n",
        "cek(\"ab\")  \n",
        "cek(\"abab\") \n",
        "cek(\"aba\")\n",
        "cek(\"abb\")\n",
        "cek(\"abab\") "
      ],
      "execution_count": 25,
      "outputs": [
        {
          "output_type": "stream",
          "text": [
            "a NOT ACCEPTED\n",
            "b NOT ACCEPTED\n",
            "ab ACCEPTED\n",
            "abab ACCEPTED\n",
            "aba NOT ACCEPTED\n",
            "abb NOT ACCEPTED\n",
            "abab ACCEPTED\n"
          ],
          "name": "stdout"
        }
      ]
    },
    {
      "cell_type": "markdown",
      "metadata": {
        "id": "gOsWLza_o1nH"
      },
      "source": [
        "**Cara 2**"
      ]
    },
    {
      "cell_type": "code",
      "metadata": {
        "id": "Zfkd_T4ioA-o",
        "outputId": "7c4df845-ddab-4b07-9097-691d8cd20f19",
        "colab": {
          "base_uri": "https://localhost:8080/"
        }
      },
      "source": [
        "dfa = {0:{'a':1},\n",
        "       1:{'b':0}}\n",
        "\n",
        "def accepts(transitions,initial,accepting,s):\n",
        "    state = initial\n",
        "    for c in s:\n",
        "        state = transitions[state][c]\n",
        "    return state in accepting\n",
        "\n",
        "accepts(dfa,0,{0},'ab')"
      ],
      "execution_count": 26,
      "outputs": [
        {
          "output_type": "execute_result",
          "data": {
            "text/plain": [
              "True"
            ]
          },
          "metadata": {
            "tags": []
          },
          "execution_count": 26
        }
      ]
    },
    {
      "cell_type": "code",
      "metadata": {
        "id": "ZBvk9THjocrz",
        "outputId": "0df3c2d6-060f-41ba-e6fd-09848bfde072",
        "colab": {
          "base_uri": "https://localhost:8080/"
        }
      },
      "source": [
        "accepts(dfa,0,{0},'a')"
      ],
      "execution_count": 27,
      "outputs": [
        {
          "output_type": "execute_result",
          "data": {
            "text/plain": [
              "False"
            ]
          },
          "metadata": {
            "tags": []
          },
          "execution_count": 27
        }
      ]
    },
    {
      "cell_type": "code",
      "metadata": {
        "id": "Fm-jlH_OoYPk",
        "outputId": "b324bfd2-ec72-4318-9aaf-32821cc47339",
        "colab": {
          "base_uri": "https://localhost:8080/"
        }
      },
      "source": [
        "accepts(dfa,0,{0},'abab')"
      ],
      "execution_count": 28,
      "outputs": [
        {
          "output_type": "execute_result",
          "data": {
            "text/plain": [
              "True"
            ]
          },
          "metadata": {
            "tags": []
          },
          "execution_count": 28
        }
      ]
    },
    {
      "cell_type": "code",
      "metadata": {
        "id": "IpOQMKyUoaD1",
        "outputId": "25c06a72-3108-40d4-e1b3-4bdad95d278f",
        "colab": {
          "base_uri": "https://localhost:8080/"
        }
      },
      "source": [
        "accepts(dfa,0,{0},'ababab')"
      ],
      "execution_count": 29,
      "outputs": [
        {
          "output_type": "execute_result",
          "data": {
            "text/plain": [
              "True"
            ]
          },
          "metadata": {
            "tags": []
          },
          "execution_count": 29
        }
      ]
    },
    {
      "cell_type": "markdown",
      "metadata": {
        "id": "06F_j_jn2--l"
      },
      "source": [
        "**Cara 3**"
      ]
    },
    {
      "cell_type": "code",
      "metadata": {
        "id": "yPpk1p5B0DLY",
        "outputId": "e0af05fb-abdc-42a7-8c15-d83da30ba71c",
        "colab": {
          "base_uri": "https://localhost:8080/",
          "height": 186
        }
      },
      "source": [
        "import sys\n",
        "\n",
        "def main():\n",
        "    transition = [[[0,1],[0]], [[4],[2]], [[4],[3]], [[4],[4]]]\n",
        "    inputan = input(\"enter the string: \")\n",
        "    inputan = list(inputan)\n",
        "    for index in range(len(inputan)):\n",
        "        if inputan[index]=='a':\n",
        "            inputan[index]='0' \n",
        "        else:\n",
        "            inputan[index]='1'\n",
        "\n",
        "    final = \"2\"\n",
        "    start = 0\n",
        "    i=0 \n",
        "\n",
        "    trans(transition, inputan, final, start, i)\n",
        "    print (\"rejected\") \n",
        "\n",
        "\n",
        "\n",
        "def trans(transition, inputan, final, state, i):\n",
        "    for j in range (len(inputan)):\n",
        "        for each in transition[state][int(inputan[j])]:\n",
        "            if each < 4:\n",
        "                state = each\n",
        "                if j == len(inputan)-1 and (str(state) in final):\n",
        "                    print (\"accepted\") \n",
        "                    sys.exit()\n",
        "                trans(transition, inputan[i+1:], final, state, i)\n",
        "        i = i+1\n",
        "\n",
        "\n",
        "main()"
      ],
      "execution_count": 30,
      "outputs": [
        {
          "output_type": "stream",
          "text": [
            "enter the string: ababab\n",
            "accepted\n"
          ],
          "name": "stdout"
        },
        {
          "output_type": "error",
          "ename": "SystemExit",
          "evalue": "ignored",
          "traceback": [
            "An exception has occurred, use %tb to see the full traceback.\n",
            "\u001b[0;31mSystemExit\u001b[0m\n"
          ]
        },
        {
          "output_type": "stream",
          "text": [
            "/usr/local/lib/python3.6/dist-packages/IPython/core/interactiveshell.py:2890: UserWarning: To exit: use 'exit', 'quit', or Ctrl-D.\n",
            "  warn(\"To exit: use 'exit', 'quit', or Ctrl-D.\", stacklevel=1)\n"
          ],
          "name": "stderr"
        }
      ]
    },
    {
      "cell_type": "markdown",
      "metadata": {
        "id": "oY_li4AaWUQi"
      },
      "source": [
        "# **5. String Kalimat**\n",
        "L(G5) = { 01(ab)*10 ⎹ n > 0 } = { 01ab10, 01abab10, 01ababab10,...\n",
        "}"
      ]
    },
    {
      "cell_type": "markdown",
      "metadata": {
        "id": "sYbI-W3gpAIZ"
      },
      "source": [
        "**Cara 1**"
      ]
    },
    {
      "cell_type": "code",
      "metadata": {
        "id": "q7DzDLVyTNFl",
        "outputId": "110be61f-e749-423c-f155-0d42407801f9",
        "colab": {
          "base_uri": "https://localhost:8080/"
        }
      },
      "source": [
        "def start(c): \n",
        "    if (c == '0'): \n",
        "        dfa = 1 \n",
        "    else: \n",
        "        dfa = -1\n",
        "    return dfa \n",
        "  \n",
        "def state1(c):  \n",
        "    if (c == '1'): \n",
        "        dfa = 2\n",
        "    else: \n",
        "        dfa = -1\n",
        "    return dfa \n",
        "  \n",
        "def state2(c): \n",
        "    if (c == '1'): \n",
        "        dfa = 4\n",
        "    elif (c == 'a'): \n",
        "        dfa = 3\n",
        "    else: \n",
        "        dfa = -1\n",
        "    return dfa \n",
        "   \n",
        "def state3(c): \n",
        "    if (c == 'b'): \n",
        "        dfa = 2\n",
        "    else: \n",
        "        dfa = -1\n",
        "    return dfa \n",
        "  \n",
        "def state4(c): \n",
        "    if (c == '0'): \n",
        "        dfa = 0\n",
        "    else: \n",
        "        dfa = -1\n",
        "    return dfa \n",
        "  \n",
        "def cek(String): \n",
        "    l = len(String) \n",
        "    dfa = 0\n",
        "    for i in range(l):  \n",
        "        if (dfa == 0):  \n",
        "            dfa = start(String[i])  \n",
        "        elif (dfa == 1):  \n",
        "            dfa = state1(String[i])  \n",
        "        elif (dfa == 2) : \n",
        "            dfa = state2(String[i])  \n",
        "        elif (dfa == 3) : \n",
        "            dfa = state3(String[i])  \n",
        "        elif (dfa == 4) : \n",
        "            dfa = state4(String[i])  \n",
        "\n",
        "    if (dfa == 0) : \n",
        "        print(String, \"ACCEPTED\") \n",
        "    else: \n",
        "        print(String, \"NOT ACCEPTED\")\n",
        "   \n",
        "cek(\"0110\") \n",
        "cek(\"01a10\") \n",
        "cek(\"01b10\") \n",
        "cek(\"01ab10\") \n",
        "cek(\"01aba10\") \n",
        "cek(\"01abb10\") \n",
        "cek(\"01abab10\") "
      ],
      "execution_count": 31,
      "outputs": [
        {
          "output_type": "stream",
          "text": [
            "0110 ACCEPTED\n",
            "01a10 NOT ACCEPTED\n",
            "01b10 NOT ACCEPTED\n",
            "01ab10 ACCEPTED\n",
            "01aba10 NOT ACCEPTED\n",
            "01abb10 NOT ACCEPTED\n",
            "01abab10 ACCEPTED\n"
          ],
          "name": "stdout"
        }
      ]
    },
    {
      "cell_type": "markdown",
      "metadata": {
        "id": "M6556XHDqb7X"
      },
      "source": [
        "**Cara 2**"
      ]
    },
    {
      "cell_type": "code",
      "metadata": {
        "id": "u6Ai40CjpHpq",
        "outputId": "95097ad8-d478-4607-86aa-37638b7a4cab",
        "colab": {
          "base_uri": "https://localhost:8080/"
        }
      },
      "source": [
        "dfa = {0:{'0':1},\n",
        "       1:{'1':2},\n",
        "       2:{'a':3, '1':4},\n",
        "       3:{'b':2},\n",
        "       4:{'0':0}}\n",
        "\n",
        "def accepts(transitions,initial,accepting,s):\n",
        "    state = initial\n",
        "    for c in s:\n",
        "        state = transitions[state][c]\n",
        "    return state in accepting\n",
        "\n",
        "accepts(dfa,0,{0},'01ab10')"
      ],
      "execution_count": 32,
      "outputs": [
        {
          "output_type": "execute_result",
          "data": {
            "text/plain": [
              "True"
            ]
          },
          "metadata": {
            "tags": []
          },
          "execution_count": 32
        }
      ]
    }
  ]
}